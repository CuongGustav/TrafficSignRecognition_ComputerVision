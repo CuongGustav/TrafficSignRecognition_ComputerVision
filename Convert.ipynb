{
 "cells": [
  {
   "cell_type": "code",
   "execution_count": 61,
   "metadata": {},
   "outputs": [
    {
     "data": {
      "text/plain": [
       "['D:\\\\TaiLieu\\\\ThiGiacMayTinh\\\\Image\\\\42\\\\noisy_image_10.png',\n",
       " 'D:\\\\TaiLieu\\\\ThiGiacMayTinh\\\\Image\\\\42\\\\noisy_image_11.png',\n",
       " 'D:\\\\TaiLieu\\\\ThiGiacMayTinh\\\\Image\\\\42\\\\noisy_image_12.png',\n",
       " 'D:\\\\TaiLieu\\\\ThiGiacMayTinh\\\\Image\\\\42\\\\noisy_image_13.png',\n",
       " 'D:\\\\TaiLieu\\\\ThiGiacMayTinh\\\\Image\\\\42\\\\noisy_image_14.png']"
      ]
     },
     "execution_count": 61,
     "metadata": {},
     "output_type": "execute_result"
    }
   ],
   "source": [
    "import cv2\n",
    "import numpy as np\n",
    "import os\n",
    "\n",
    "# Đọc ảnh gốc\n",
    "image_path = r\"D:\\TaiLieu\\ThiGiacMayTinh\\Image\\42\\image.png\"\n",
    "image = cv2.imread(image_path)\n",
    "\n",
    "# Tạo thư mục nếu chưa tồn tại\n",
    "save_dir = r\"D:\\TaiLieu\\ThiGiacMayTinh\\Image\\42\"\n",
    "# os.makedirs(save_dir, exist_ok=True)\n",
    "\n",
    "def add_noise_to_image(image, noise_factor=0.2):\n",
    "    \"\"\"Thêm nhiễu ngẫu nhiên vào ảnh.\"\"\"\n",
    "    noise = np.random.randn(*image.shape) * 255 * noise_factor\n",
    "    noisy_image = np.clip(image + noise, 0, 255).astype(np.uint8)\n",
    "    return noisy_image\n",
    "\n",
    "# Sinh ra và lưu 5 ảnh có nhiễu khác nhau vào thư mục đã tạo\n",
    "output_paths = []\n",
    "for i in range(5):  # Tạo 5 ảnh\n",
    "    noisy_img = add_noise_to_image(image, noise_factor=0.3)\n",
    "    output_path = os.path.join(save_dir, f\"noisy_image_{i+10}.png\")\n",
    "    cv2.imwrite(output_path, noisy_img)\n",
    "    output_paths.append(output_path)\n",
    "\n",
    "output_paths"
   ]
  },
  {
   "cell_type": "code",
   "execution_count": 62,
   "metadata": {},
   "outputs": [
    {
     "data": {
      "text/plain": [
       "['D:\\\\TaiLieu\\\\ThiGiacMayTinh\\\\Image\\\\42\\\\noisy_image_1.png',\n",
       " 'D:\\\\TaiLieu\\\\ThiGiacMayTinh\\\\Image\\\\42\\\\noisy_image_2.png',\n",
       " 'D:\\\\TaiLieu\\\\ThiGiacMayTinh\\\\Image\\\\42\\\\noisy_image_3.png',\n",
       " 'D:\\\\TaiLieu\\\\ThiGiacMayTinh\\\\Image\\\\42\\\\noisy_image_4.png',\n",
       " 'D:\\\\TaiLieu\\\\ThiGiacMayTinh\\\\Image\\\\42\\\\noisy_image_5.png']"
      ]
     },
     "execution_count": 62,
     "metadata": {},
     "output_type": "execute_result"
    }
   ],
   "source": [
    "import cv2\n",
    "import numpy as np\n",
    "import os\n",
    "\n",
    "# Đọc ảnh gốc\n",
    "image_path = r\"D:\\TaiLieu\\ThiGiacMayTinh\\Image\\42\\image.png\"\n",
    "image = cv2.imread(image_path)\n",
    "\n",
    "# Tạo thư mục nếu chưa tồn tại\n",
    "save_dir = r\"D:\\TaiLieu\\ThiGiacMayTinh\\Image\\42\"\n",
    "# os.makedirs(save_dir, exist_ok=True)\n",
    "\n",
    "def add_noise_to_image(image, noise_factor=0.2):\n",
    "    \"\"\"Thêm nhiễu ngẫu nhiên vào ảnh.\"\"\"\n",
    "    noise = np.random.randn(*image.shape) * 255 * noise_factor\n",
    "    noisy_image = np.clip(image + noise, 0, 255).astype(np.uint8)\n",
    "    return noisy_image\n",
    "\n",
    "# Sinh ra và lưu 5 ảnh có nhiễu khác nhau vào thư mục đã tạo\n",
    "output_paths = []\n",
    "for i in range(5):  # Tạo 5 ảnh\n",
    "    noisy_img = add_noise_to_image(image, noise_factor=0.5)\n",
    "    output_path = os.path.join(save_dir, f\"noisy_image_{i+1}.png\")\n",
    "    cv2.imwrite(output_path, noisy_img)\n",
    "    output_paths.append(output_path)\n",
    "\n",
    "output_paths"
   ]
  },
  {
   "cell_type": "code",
   "execution_count": 63,
   "metadata": {},
   "outputs": [
    {
     "data": {
      "text/plain": [
       "['D:\\\\TaiLieu\\\\ThiGiacMayTinh\\\\Image\\\\42\\\\adjusted_image_0.25.png',\n",
       " 'D:\\\\TaiLieu\\\\ThiGiacMayTinh\\\\Image\\\\42\\\\adjusted_image_0.5.png',\n",
       " 'D:\\\\TaiLieu\\\\ThiGiacMayTinh\\\\Image\\\\42\\\\adjusted_image_0.75.png',\n",
       " 'D:\\\\TaiLieu\\\\ThiGiacMayTinh\\\\Image\\\\42\\\\adjusted_image_1.0.png',\n",
       " 'D:\\\\TaiLieu\\\\ThiGiacMayTinh\\\\Image\\\\42\\\\adjusted_image_1.25.png',\n",
       " 'D:\\\\TaiLieu\\\\ThiGiacMayTinh\\\\Image\\\\42\\\\adjusted_image_1.5.png',\n",
       " 'D:\\\\TaiLieu\\\\ThiGiacMayTinh\\\\Image\\\\42\\\\adjusted_image_1.75.png',\n",
       " 'D:\\\\TaiLieu\\\\ThiGiacMayTinh\\\\Image\\\\42\\\\adjusted_image_2.png']"
      ]
     },
     "execution_count": 63,
     "metadata": {},
     "output_type": "execute_result"
    }
   ],
   "source": [
    "import cv2\n",
    "import numpy as np\n",
    "import os\n",
    "\n",
    "# Đọc ảnh gốc\n",
    "image_path = r\"D:\\TaiLieu\\ThiGiacMayTinh\\Image\\42\\image.png\"\n",
    "image = cv2.imread(image_path)\n",
    "\n",
    "# Tạo thư mục nếu chưa tồn tại\n",
    "save_dir = r\"D:\\TaiLieu\\ThiGiacMayTinh\\Image\\42\"\n",
    "# os.makedirs(save_dir, exist_ok=True)\n",
    "\n",
    "def adjust_brightness(image, factor=1.0):\n",
    "    \"\"\"\n",
    "    Điều chỉnh độ sáng của ảnh.\n",
    "    factor > 1.0 -> làm sáng ảnh\n",
    "    factor < 1.0 -> làm tối ảnh\n",
    "    \"\"\"\n",
    "    return np.clip(image * factor, 0, 255).astype(np.uint8)\n",
    "\n",
    "# Tạo và lưu ảnh với độ sáng khác nhau\n",
    "factors = [0.25, 0.5, 0.75, 1.0, 1.25, 1.5, 1.75, 2]\n",
    "# factors = [0.25, 1.75, 2]  # Các hệ số điều chỉnh sáng/tối\n",
    "output_paths = []\n",
    "\n",
    "for i, factor in enumerate(factors):\n",
    "    adjusted_img = adjust_brightness(image, factor)\n",
    "    output_path = os.path.join(save_dir, f\"adjusted_image_{factor}.png\")\n",
    "    cv2.imwrite(output_path, adjusted_img)\n",
    "    output_paths.append(output_path)\n",
    "\n",
    "output_paths"
   ]
  },
  {
   "cell_type": "code",
   "execution_count": 64,
   "metadata": {},
   "outputs": [
    {
     "name": "stdout",
     "output_type": "stream",
     "text": [
      "Hình ảnh đã được lưu tại: D:\\TaiLieu\\ThiGiacMayTinh\\Image\\42\n"
     ]
    }
   ],
   "source": [
    "import cv2\n",
    "import os\n",
    "\n",
    "# Đường dẫn tới hình ảnh gốc\n",
    "image_path = r\"D:\\TaiLieu\\ThiGiacMayTinh\\Image\\42\\image.png\"  # Thay đổi tên tệp theo hình ảnh của bạn\n",
    "# Thư mục để lưu hình ảnh đã làm mờ\n",
    "save_dir = r\"D:\\TaiLieu\\ThiGiacMayTinh\\Image\\42\"\n",
    "os.makedirs(save_dir, exist_ok=True)  # Tạo thư mục nếu chưa tồn tại\n",
    "\n",
    "# Danh sách các kích thước kernel khác nhau\n",
    "kernels = [(5, 5), (9, 9), (15, 15), (19, 19), (25, 25), (29, 29)]  # Kích thước kernel\n",
    "\n",
    "# Đọc hình ảnh gốc\n",
    "image = cv2.imread(image_path)\n",
    "\n",
    "if image is None:\n",
    "    print(f\"Không thể đọc ảnh: {image_path}\")\n",
    "else:\n",
    "    # Lặp qua các kích thước kernel\n",
    "    for kernel in kernels:\n",
    "        # Làm mờ hình ảnh bằng bộ lọc Gaussian\n",
    "        blurred_image = cv2.GaussianBlur(image, kernel, 0)  # Kích thước kernel\n",
    "        \n",
    "        # Tạo tên tệp cho hình ảnh đã làm mờ\n",
    "        output_path = os.path.join(save_dir, f\"blurred_{kernel[0]}x{kernel[1]}.png\")\n",
    "        \n",
    "        # Lưu hình ảnh đã làm mờ\n",
    "        cv2.imwrite(output_path, blurred_image)\n",
    "\n",
    "    print(f\"Hình ảnh đã được lưu tại: {save_dir}\")\n"
   ]
  },
  {
   "cell_type": "code",
   "execution_count": 65,
   "metadata": {},
   "outputs": [],
   "source": [
    "import cv2\n",
    "import os\n",
    "\n",
    "# Thư mục chứa các ảnh gốc\n",
    "input_dir = r\"D:\\TaiLieu\\ThiGiacMayTinh\\Image\\42\"\n",
    "# Thư mục lưu ảnh đã thay đổi kích thước\n",
    "save_dir = r\"D:\\TaiLieu\\ThiGiacMayTinh\\Image\\42\"\n",
    "os.makedirs(save_dir, exist_ok=True)  # Tạo thư mục nếu chưa tồn tại\n",
    "\n",
    "# Các kích thước khác nhau cần thay đổi\n",
    "sizes = [(25, 25), (27, 27), (28, 28), (30, 30), (32, 32),\n",
    "         (35, 35), (37, 37), (38, 38), (40, 40), (42, 42),\n",
    "         (45, 45), (47, 47), (48, 48), (50, 50), (52, 52),\n",
    "         (55, 55), (57, 57), (58, 58), (60, 60), (62, 62),\n",
    "         (65, 65), (67, 67), (68, 68), (70, 70), (72, 72),\n",
    "         (75, 75), (77, 77), (78, 78), (80, 80), (82, 82)]\n",
    "\n",
    "output_paths = []\n",
    "fixed_prefix = \"00042\"\n",
    "\n",
    "# Lặp qua tất cả các tệp trong thư mục đầu vào\n",
    "image_index = 8  # Chỉ số của ảnh hiện tại\n",
    "\n",
    "for filename in os.listdir(input_dir):\n",
    "    if filename.endswith((\".png\", \".jpg\", \".jpeg\")):  # Chỉ đọc các tệp ảnh\n",
    "        image_path = os.path.join(input_dir, filename)\n",
    "        image = cv2.imread(image_path)\n",
    "\n",
    "        if image is None:\n",
    "            print(f\"Không thể đọc ảnh: {image_path}\")\n",
    "            continue\n",
    "        sizeimage = -1\n",
    "        # Duyệt qua các kích thước trong danh sách sizes\n",
    "        for size in sizes:\n",
    "            # Thay đổi kích thước ảnh\n",
    "            sizeimage += 1\n",
    "            sss = f\"{sizeimage:05}\"\n",
    "            resized_img = cv2.resize(image, size, interpolation=cv2.INTER_AREA)\n",
    "\n",
    "            # Tạo tên mới cho ảnh đã thay đổi kích thước\n",
    "            index = f\"{image_index:05}\"  # Định dạng số thành 5 chữ số\n",
    "            output_path = os.path.join(save_dir, f\"{fixed_prefix}_{index}_{sss}.png\")\n",
    "            cv2.imwrite(output_path, resized_img)\n",
    "            output_paths.append(output_path)\n",
    "\n",
    "        image_index += 1  # Tăng chỉ số ảnh cho ảnh tiếp theo\n",
    "\n"
   ]
  },
  {
   "cell_type": "code",
   "execution_count": 1,
   "metadata": {},
   "outputs": [
    {
     "name": "stdout",
     "output_type": "stream",
     "text": [
      "Đã thêm dữ liệu vào output.csv.\n"
     ]
    }
   ],
   "source": [
    "import pandas as pd\n",
    "import os\n",
    "\n",
    "# Đường dẫn tới thư mục gốc 'Train'\n",
    "base_folder = r'D:\\TaiLieu\\ThiGiacMayTinh\\Train'\n",
    "\n",
    "# Khởi tạo danh sách để lưu dữ liệu\n",
    "data = []\n",
    "\n",
    "# Duyệt qua toàn bộ các thư mục con và ảnh bên trong\n",
    "for root, _, files in os.walk(base_folder):\n",
    "    for file in files:\n",
    "        if file.endswith(('.png', '.jpg', '.jpeg')):  # Chỉ lấy các file ảnh\n",
    "            file_path = os.path.join(root, file)  # Đường dẫn đầy đủ tới file\n",
    "            class_id = os.path.basename(os.path.dirname(file_path))  # Lấy tên thư mục (ClassId)\n",
    "            \n",
    "            # Tạo đường dẫn tương đối từ 'Train/...'\n",
    "            relative_path = file_path.split('Train')[-1]\n",
    "            relative_path = f'Train{relative_path.replace(\"\\\\\", \"/\")}'  # Chuẩn hóa dấu gạch chéo\n",
    "            \n",
    "            # Thêm dữ liệu vào danh sách\n",
    "            data.append([class_id, relative_path])\n",
    "\n",
    "# Tạo DataFrame từ dữ liệu thu thập được\n",
    "df = pd.DataFrame(data, columns=['ClassId', 'Path'])\n",
    "\n",
    "# Làm rỗng các cột khác\n",
    "df[['Width', 'Height', 'Roi.X1', 'Roi.Y1', 'Roi.X2', 'Roi.Y2']] = ''\n",
    "\n",
    "# Sắp xếp lại thứ tự cột\n",
    "df = df[['Width', 'Height', 'Roi.X1', 'Roi.Y1', 'Roi.X2', 'Roi.Y2', 'ClassId', 'Path']]\n",
    "\n",
    "# Đường dẫn tới file CSV đã có sẵn\n",
    "csv_path = r'D:\\workspace\\TrafficSignRecognition_ComputerVision\\data\\Train.csv'\n",
    "\n",
    "# Ghi thêm dữ liệu vào file CSV mà không làm mất dữ liệu cũ\n",
    "df.to_csv(csv_path, mode='a', index=False, header=not os.path.isfile(csv_path))\n",
    "\n",
    "print(\"Đã thêm dữ liệu vào output.csv.\")\n"
   ]
  }
 ],
 "metadata": {
  "kernelspec": {
   "display_name": "Python 3",
   "language": "python",
   "name": "python3"
  },
  "language_info": {
   "codemirror_mode": {
    "name": "ipython",
    "version": 3
   },
   "file_extension": ".py",
   "mimetype": "text/x-python",
   "name": "python",
   "nbconvert_exporter": "python",
   "pygments_lexer": "ipython3",
   "version": "3.12.7"
  }
 },
 "nbformat": 4,
 "nbformat_minor": 2
}
